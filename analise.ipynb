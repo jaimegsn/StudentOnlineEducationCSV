{
 "cells": [
  {
   "cell_type": "markdown",
   "metadata": {},
   "source": [
    "# Nivel de Adaptação dos Estudantes Na Educação Online"
   ]
  },
  {
   "cell_type": "code",
   "execution_count": 312,
   "metadata": {},
   "outputs": [
    {
     "name": "stdout",
     "output_type": "stream",
     "text": [
      "1205\n"
     ]
    },
    {
     "data": {
      "text/html": [
       "<div>\n",
       "<style scoped>\n",
       "    .dataframe tbody tr th:only-of-type {\n",
       "        vertical-align: middle;\n",
       "    }\n",
       "\n",
       "    .dataframe tbody tr th {\n",
       "        vertical-align: top;\n",
       "    }\n",
       "\n",
       "    .dataframe thead th {\n",
       "        text-align: right;\n",
       "    }\n",
       "</style>\n",
       "<table border=\"1\" class=\"dataframe\">\n",
       "  <thead>\n",
       "    <tr style=\"text-align: right;\">\n",
       "      <th></th>\n",
       "      <th>Gender</th>\n",
       "      <th>Age</th>\n",
       "      <th>Education Level</th>\n",
       "      <th>Institution Type</th>\n",
       "      <th>IT Student</th>\n",
       "      <th>Location</th>\n",
       "      <th>Load-shedding</th>\n",
       "      <th>Financial Condition</th>\n",
       "      <th>Internet Type</th>\n",
       "      <th>Network Type</th>\n",
       "      <th>Class Duration</th>\n",
       "      <th>Self Lms</th>\n",
       "      <th>Device</th>\n",
       "      <th>Adaptivity Level</th>\n",
       "    </tr>\n",
       "  </thead>\n",
       "  <tbody>\n",
       "    <tr>\n",
       "      <th>0</th>\n",
       "      <td>Boy</td>\n",
       "      <td>21-25</td>\n",
       "      <td>University</td>\n",
       "      <td>Non Government</td>\n",
       "      <td>No</td>\n",
       "      <td>Yes</td>\n",
       "      <td>Low</td>\n",
       "      <td>Mid</td>\n",
       "      <td>Wifi</td>\n",
       "      <td>4G</td>\n",
       "      <td>3-6</td>\n",
       "      <td>No</td>\n",
       "      <td>Tab</td>\n",
       "      <td>Moderate</td>\n",
       "    </tr>\n",
       "    <tr>\n",
       "      <th>1</th>\n",
       "      <td>Girl</td>\n",
       "      <td>21-25</td>\n",
       "      <td>University</td>\n",
       "      <td>Non Government</td>\n",
       "      <td>No</td>\n",
       "      <td>Yes</td>\n",
       "      <td>High</td>\n",
       "      <td>Mid</td>\n",
       "      <td>Mobile Data</td>\n",
       "      <td>4G</td>\n",
       "      <td>1-3</td>\n",
       "      <td>Yes</td>\n",
       "      <td>Mobile</td>\n",
       "      <td>Moderate</td>\n",
       "    </tr>\n",
       "    <tr>\n",
       "      <th>2</th>\n",
       "      <td>Girl</td>\n",
       "      <td>16-20</td>\n",
       "      <td>College</td>\n",
       "      <td>Government</td>\n",
       "      <td>No</td>\n",
       "      <td>Yes</td>\n",
       "      <td>Low</td>\n",
       "      <td>Mid</td>\n",
       "      <td>Wifi</td>\n",
       "      <td>4G</td>\n",
       "      <td>1-3</td>\n",
       "      <td>No</td>\n",
       "      <td>Mobile</td>\n",
       "      <td>Moderate</td>\n",
       "    </tr>\n",
       "    <tr>\n",
       "      <th>3</th>\n",
       "      <td>Girl</td>\n",
       "      <td>11-15</td>\n",
       "      <td>School</td>\n",
       "      <td>Non Government</td>\n",
       "      <td>No</td>\n",
       "      <td>Yes</td>\n",
       "      <td>Low</td>\n",
       "      <td>Mid</td>\n",
       "      <td>Mobile Data</td>\n",
       "      <td>4G</td>\n",
       "      <td>1-3</td>\n",
       "      <td>No</td>\n",
       "      <td>Mobile</td>\n",
       "      <td>Moderate</td>\n",
       "    </tr>\n",
       "    <tr>\n",
       "      <th>4</th>\n",
       "      <td>Girl</td>\n",
       "      <td>16-20</td>\n",
       "      <td>School</td>\n",
       "      <td>Non Government</td>\n",
       "      <td>No</td>\n",
       "      <td>Yes</td>\n",
       "      <td>Low</td>\n",
       "      <td>Poor</td>\n",
       "      <td>Mobile Data</td>\n",
       "      <td>3G</td>\n",
       "      <td>0</td>\n",
       "      <td>No</td>\n",
       "      <td>Mobile</td>\n",
       "      <td>Low</td>\n",
       "    </tr>\n",
       "  </tbody>\n",
       "</table>\n",
       "</div>"
      ],
      "text/plain": [
       "  Gender    Age Education Level Institution Type IT Student Location  \\\n",
       "0    Boy  21-25      University   Non Government         No      Yes   \n",
       "1   Girl  21-25      University   Non Government         No      Yes   \n",
       "2   Girl  16-20         College       Government         No      Yes   \n",
       "3   Girl  11-15          School   Non Government         No      Yes   \n",
       "4   Girl  16-20          School   Non Government         No      Yes   \n",
       "\n",
       "  Load-shedding Financial Condition Internet Type Network Type Class Duration  \\\n",
       "0           Low                 Mid          Wifi           4G            3-6   \n",
       "1          High                 Mid   Mobile Data           4G            1-3   \n",
       "2           Low                 Mid          Wifi           4G            1-3   \n",
       "3           Low                 Mid   Mobile Data           4G            1-3   \n",
       "4           Low                Poor   Mobile Data           3G              0   \n",
       "\n",
       "  Self Lms  Device Adaptivity Level  \n",
       "0       No     Tab         Moderate  \n",
       "1      Yes  Mobile         Moderate  \n",
       "2       No  Mobile         Moderate  \n",
       "3       No  Mobile         Moderate  \n",
       "4       No  Mobile              Low  "
      ]
     },
     "execution_count": 312,
     "metadata": {},
     "output_type": "execute_result"
    }
   ],
   "source": [
    "import pandas as pd\n",
    "import numpy as np\n",
    "\n",
    "data = pd.read_csv('dataset/data.csv')\n",
    "print(data.__len__())\n",
    "data.head()"
   ]
  },
  {
   "cell_type": "markdown",
   "metadata": {},
   "source": [
    "<hr>\n",
    "<h4>Verificando possiveis Dados Corrompidos/Falhos: </h4>"
   ]
  },
  {
   "cell_type": "code",
   "execution_count": 43,
   "metadata": {},
   "outputs": [
    {
     "data": {
      "text/plain": [
       "Gender                 0\n",
       "Age                    0\n",
       "Education Level        0\n",
       "Institution Type       0\n",
       "IT Student             0\n",
       "Location               0\n",
       "Load-shedding          0\n",
       "Financial Condition    0\n",
       "Internet Type          0\n",
       "Network Type           0\n",
       "Class Duration         0\n",
       "Self Lms               0\n",
       "Device                 0\n",
       "Adaptivity Level       0\n",
       "dtype: int64"
      ]
     },
     "execution_count": 43,
     "metadata": {},
     "output_type": "execute_result"
    }
   ],
   "source": [
    "# Verificando se existem dados Não Numéricos\n",
    "data.isna().sum()"
   ]
  },
  {
   "cell_type": "markdown",
   "metadata": {},
   "source": [
    "<h4>Problemas:</h4>\n",
    "- 1 Quantos Garotos e Meninas participaram dessa pesquisa<br>\n",
    "- 2 Qual a média de idades dos estudantes<br>\n",
    "- 3 Qual o nivel de educação e dados de conexão daqueles que atingiram uma alta adaptação no ensino online<br>\n",
    "- 4 Qual a situação financeira dos alunos que ficaram com uma baixa adaptação no ensino online<br>\n",
    "- 5 Quantos dos alunos que atingiram uma alta adaptação no ensino online era um estudade de T.I ?<br>\n",
    "<br>\n",
    "<br>\n",
    "<h4>Problema 1:"
   ]
  },
  {
   "cell_type": "code",
   "execution_count": 327,
   "metadata": {},
   "outputs": [
    {
     "name": "stdout",
     "output_type": "stream",
     "text": [
      "Garotos : 55.02 %\n",
      "Garotas : 44.98 %\n"
     ]
    }
   ],
   "source": [
    "Total=data.Gender.value_counts().sum()\n",
    "Boys=data.Gender.value_counts()['Boy']\n",
    "Girls=data.Gender.value_counts()['Girl']\n",
    "\n",
    "print(f'Garotos : { round((Boys*100)/Total,2)} %')\n",
    "print(f'Garotas : { round((Girls*100)/Total,2)} %')"
   ]
  },
  {
   "cell_type": "markdown",
   "metadata": {},
   "source": [
    "<h4>Problema 2:"
   ]
  },
  {
   "cell_type": "code",
   "execution_count": 328,
   "metadata": {},
   "outputs": [
    {
     "name": "stdout",
     "output_type": "stream",
     "text": [
      "Média da Idade dos Alunos: 16.99\n"
     ]
    }
   ],
   "source": [
    "# Estatisticas da idade (21-24 : 374...) :\n",
    "statAge = data.Age.value_counts()\n",
    "\n",
    "\n",
    "# Criando um dicionário com os intervalos de idade: '1-5':[1,..,5],..\n",
    "idades = {'1-5':[x for x in range(1,6)], '6-10':[x for x in range(6,11)],\n",
    "        '11-15':[x for x in range(11,16)], '16-20':[x for x in range(16,21)],\n",
    "        '21-25':[x for x in range(21,26)], '26-30':[x for x in range(26,31)]}\n",
    "\n",
    "\n",
    "# Percorrendo as keys de idades, e depois alterando a lista inteira da chave :\n",
    "for x in idades.keys():\n",
    "    idades[x] = [y*int(statAge[x]/5) for y in idades[x]]\n",
    "\n",
    "# Passando para NumPy para facilitar calculos\n",
    "vetorIdades = np.array([x for x in idades.values()])\n",
    "\n",
    "# Passando os dividendos da média ponderada para um array e assim facilitar os calculos\n",
    "dividendo = np.array([int(statAge[x]) for x in idades.keys()])\n",
    "\n",
    "# Média Ponderada:\n",
    "print(f'Média da Idade dos Alunos: {round(vetorIdades.sum()/dividendo.sum(),2)}')\n",
    "\n"
   ]
  },
  {
   "cell_type": "markdown",
   "metadata": {},
   "source": [
    "<h4>Problema 3</h4>"
   ]
  },
  {
   "cell_type": "code",
   "execution_count": 335,
   "metadata": {},
   "outputs": [
    {
     "name": "stdout",
     "output_type": "stream",
     "text": [
      "Quantidade de alunos que alcançaram alto nivel de adaptação : 100 alunos (Corresponde á 8.3 % do total de estudantes) \n",
      " Dados sobre esses Alunos:\n",
      "  Aluno que utilizaram WIFI : 64 %\n",
      "  Aluno que utilizaram Dados Moveis : 36 %\n",
      "  Aluno que utilizaram 4G : 78 %\n",
      "  Aluno que utilizaram 3G : 22 %\n",
      "  Nivel de Escolaridade-> Univesity: 50 %  School: 47 %  College: 3 %\n"
     ]
    }
   ],
   "source": [
    "dataP3 = data.query('`Adaptivity Level`==\"High\"')\n",
    "\n",
    "iType = dataP3['Internet Type'].value_counts()\n",
    "nType = dataP3['Network Type'].value_counts()\n",
    "eLVL = dataP3['Education Level'].value_counts()\n",
    "\n",
    "print(f\"Quantidade de alunos que alcançaram alto nivel de adaptação : {dataP3.__len__()} alunos (Corresponde á \\\n",
    "{round(dataP3.__len__()*100/data.__len__(),2)} % do total de estudantes) \" )\n",
    "\n",
    "print(f\" Dados sobre esses Alunos:\")\n",
    "print(f\"  Aluno que utilizaram WIFI : {iType['Wifi']} %\")\n",
    "print(f\"  Aluno que utilizaram Dados Moveis : {iType['Mobile Data']} %\")\n",
    "print(f\"  Aluno que utilizaram 4G : {nType['4G']} %\")\n",
    "print(f\"  Aluno que utilizaram 3G : {nType['3G']} %\")\n",
    "print(f\"  Nivel de Escolaridade-> Univesity: {eLVL['University']} %  School: {eLVL['School']} %  College: {eLVL['College']} %\")\n",
    "\n",
    "\n"
   ]
  },
  {
   "cell_type": "markdown",
   "metadata": {},
   "source": [
    "<h4>Problema 4:</h4>"
   ]
  },
  {
   "cell_type": "code",
   "execution_count": 326,
   "metadata": {},
   "outputs": [
    {
     "name": "stdout",
     "output_type": "stream",
     "text": [
      "Alunos que tiveram uma baixa adaptação: 480 (Corresponde á 39.83 % do total de estudantes)\n",
      " Dados sobre esses Alunos:\n",
      "  Alunos que tem uma situação financeira rica: 2.08 %\n",
      "  Alunos que tem uma situação financeira mediana: 71.04 %\n",
      "  Alunos que tem uma situação financeira Pobre: 26.88 %\n"
     ]
    }
   ],
   "source": [
    "studentsLow = data.query(\"`Adaptivity Level`== 'Low'\")\n",
    "dataLow = studentsLow['Financial Condition'].value_counts()\n",
    "print(f'Alunos que tiveram uma baixa adaptação: {studentsLow.__len__()} \\\n",
    "(Corresponde á {round(studentsLow.__len__()*100/data.__len__(),2)} % do total de estudantes)')\n",
    "print(\" Dados sobre esses Alunos:\")\n",
    "print(f\"  Alunos que tem uma situação financeira rica: {round(dataLow['Rich']*100/studentsLow.__len__(),2)} %\")\n",
    "print(f\"  Alunos que tem uma situação financeira mediana: {round(dataLow['Mid']*100/studentsLow.__len__(),2)} %\")\n",
    "print(f\"  Alunos que tem uma situação financeira Pobre: {round(dataLow['Poor']*100/studentsLow.__len__(),2)} %\")"
   ]
  },
  {
   "cell_type": "markdown",
   "metadata": {},
   "source": [
    "<h4>Problema 5:</h4>"
   ]
  },
  {
   "cell_type": "code",
   "execution_count": 347,
   "metadata": {},
   "outputs": [
    {
     "name": "stdout",
     "output_type": "stream",
     "text": [
      "Alunos que atingiram alto nivel de adaptação e estudava T.I : 33 alunos (Corresponde á  2.74 % do total de estudantes)\n"
     ]
    }
   ],
   "source": [
    "studentsHigh = data.query('`Adaptivity Level` == \"High\" & `IT Student` == \"Yes\" ')\n",
    "print(f'Alunos que atingiram alto nivel de adaptação e estudava T.I : {studentsHigh.__len__()} alunos (Corresponde á \\\n",
    " {round(studentsHigh.__len__()*100/data.__len__(),2)} % do total de estudantes)')"
   ]
  }
 ],
 "metadata": {
  "interpreter": {
   "hash": "bdb671202a387ebf0bc7bf04476cbafa528fae566193c2efe94e2aaf8539be45"
  },
  "kernelspec": {
   "display_name": "Python 3.9.7 ('base')",
   "language": "python",
   "name": "python3"
  },
  "language_info": {
   "codemirror_mode": {
    "name": "ipython",
    "version": 3
   },
   "file_extension": ".py",
   "mimetype": "text/x-python",
   "name": "python",
   "nbconvert_exporter": "python",
   "pygments_lexer": "ipython3",
   "version": "3.9.7"
  },
  "orig_nbformat": 4
 },
 "nbformat": 4,
 "nbformat_minor": 2
}
